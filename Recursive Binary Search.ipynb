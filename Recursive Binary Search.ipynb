{
 "cells": [
  {
   "cell_type": "code",
   "execution_count": 1,
   "id": "762effeb",
   "metadata": {},
   "outputs": [],
   "source": [
    "def recursive_binary_search(list, target):\n",
    "    if len(list) == 0:\n",
    "        return False\n",
    "    else:\n",
    "        midpoint = (len(list)) // 2\n",
    "        \n",
    "        if list[midpoint] == target:\n",
    "            return True\n",
    "        else:\n",
    "            if list[midpoint] < target:\n",
    "                return recursive_binary_search(list[midpoint+1:], target)\n",
    "            else:\n",
    "                return recursive_binary_search(list[:midpoint], target)"
   ]
  },
  {
   "cell_type": "code",
   "execution_count": 2,
   "id": "c65becbc",
   "metadata": {},
   "outputs": [],
   "source": [
    "def verify(result):\n",
    "    print(\"Target found: \", result)"
   ]
  },
  {
   "cell_type": "code",
   "execution_count": 3,
   "id": "dd928ba4",
   "metadata": {},
   "outputs": [
    {
     "data": {
      "text/plain": [
       "[1, 2, 3, 4, 5, 6, 7, 8]"
      ]
     },
     "execution_count": 3,
     "metadata": {},
     "output_type": "execute_result"
    }
   ],
   "source": [
    "numbers = []\n",
    "\n",
    "for i in range(8):\n",
    "    numbers.append(i+1)\n",
    "\n",
    "numbers"
   ]
  },
  {
   "cell_type": "code",
   "execution_count": 4,
   "id": "a3364d18",
   "metadata": {},
   "outputs": [],
   "source": [
    "result = recursive_binary_search(numbers,12)"
   ]
  },
  {
   "cell_type": "code",
   "execution_count": 5,
   "id": "4ac18531",
   "metadata": {},
   "outputs": [
    {
     "name": "stdout",
     "output_type": "stream",
     "text": [
      "Target found:  False\n"
     ]
    }
   ],
   "source": [
    "verify(result)"
   ]
  },
  {
   "cell_type": "code",
   "execution_count": 6,
   "id": "c09677ce",
   "metadata": {},
   "outputs": [
    {
     "name": "stdout",
     "output_type": "stream",
     "text": [
      "Target found:  True\n"
     ]
    }
   ],
   "source": [
    "result = recursive_binary_search(numbers,6)\n",
    "verify(result)"
   ]
  }
 ],
 "metadata": {
  "kernelspec": {
   "display_name": "Python 3 (ipykernel)",
   "language": "python",
   "name": "python3"
  },
  "language_info": {
   "codemirror_mode": {
    "name": "ipython",
    "version": 3
   },
   "file_extension": ".py",
   "mimetype": "text/x-python",
   "name": "python",
   "nbconvert_exporter": "python",
   "pygments_lexer": "ipython3",
   "version": "3.11.7"
  }
 },
 "nbformat": 4,
 "nbformat_minor": 5
}
