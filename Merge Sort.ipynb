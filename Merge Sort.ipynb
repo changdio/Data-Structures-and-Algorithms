{
 "cells": [
  {
   "cell_type": "code",
   "execution_count": 1,
   "id": "7d05b278",
   "metadata": {},
   "outputs": [],
   "source": [
    "def merge_sort(list):\n",
    "    \"\"\"\n",
    "    Sorts a list in ascending order\n",
    "    Returns a new sorted list\n",
    "    \n",
    "    Divide: Find the midpoint of the list and divide into sublists\n",
    "    Conquer: Recursively sort the sublists created in the previous step\n",
    "    Combine: Merge the sorted sublists created in previous step\n",
    "    \n",
    "    Takes O(n log n) time\n",
    "    \"\"\"\n",
    "    \n",
    "    if len(list) <= 1:\n",
    "        return list\n",
    "    \n",
    "    left_half, right_half = split(list)\n",
    "    left = merge_sort(left_half)\n",
    "    right = merge_sort(right_half)\n",
    "    \n",
    "    return merge(left, right)\n",
    "\n",
    "def split(list):\n",
    "    \"\"\"\n",
    "    Divide the unsorted list at midpoint into sublists\n",
    "    Returns two sublists - left and right\n",
    "    \n",
    "    Overall takes O(log n) time\n",
    "    \"\"\"\n",
    "    \n",
    "    mid = len(list) // 2\n",
    "    left = list[:mid]\n",
    "    right = list[mid:]\n",
    "    \n",
    "    return left, right\n",
    "\n",
    "def merge(left, right):\n",
    "    \"\"\"\n",
    "    Merges two lists (arrays), sorting them in the process\n",
    "    Returns a new merged list\n",
    "    \n",
    "    Runs in overall O(n) time\n",
    "    \"\"\"\n",
    "    \n",
    "    l = []\n",
    "    i = 0\n",
    "    j = 0\n",
    "    \n",
    "    while i < len(left) and j < len(right):\n",
    "        if left[i] < right[j]:\n",
    "            l.append(left[i])\n",
    "            i += 1\n",
    "        else:\n",
    "            l.append(right[j])\n",
    "            j += 1\n",
    "            \n",
    "    while i < len(left):\n",
    "        l.append(left[i])\n",
    "        i += 1\n",
    "        \n",
    "    while j < len(right):\n",
    "        l.append(right[j])\n",
    "        j += 1\n",
    "        \n",
    "    return l\n",
    "\n",
    "def verify_sorted(list):\n",
    "    n = len(list)\n",
    "    \n",
    "    if n == 0 or n == 1:\n",
    "        return True\n",
    "    \n",
    "    return list[0] < list[1] and verify_sorted(list[1:])"
   ]
  },
  {
   "cell_type": "code",
   "execution_count": 2,
   "id": "9be712e7",
   "metadata": {},
   "outputs": [],
   "source": [
    "alist = [54, 62, 93, 17, 77, 31, 44, 55, 20]"
   ]
  },
  {
   "cell_type": "code",
   "execution_count": 3,
   "id": "928007c2",
   "metadata": {},
   "outputs": [],
   "source": [
    "l = merge_sort(alist)"
   ]
  },
  {
   "cell_type": "code",
   "execution_count": 4,
   "id": "f8d099bf",
   "metadata": {},
   "outputs": [
    {
     "name": "stdout",
     "output_type": "stream",
     "text": [
      "[17, 20, 31, 44, 54, 55, 62, 77, 93]\n"
     ]
    }
   ],
   "source": [
    "print(l)"
   ]
  },
  {
   "cell_type": "code",
   "execution_count": 5,
   "id": "a5bc6fda",
   "metadata": {},
   "outputs": [
    {
     "name": "stdout",
     "output_type": "stream",
     "text": [
      "False\n"
     ]
    }
   ],
   "source": [
    "print(verify_sorted(alist))"
   ]
  },
  {
   "cell_type": "code",
   "execution_count": 6,
   "id": "cbd76b57",
   "metadata": {},
   "outputs": [
    {
     "name": "stdout",
     "output_type": "stream",
     "text": [
      "True\n"
     ]
    }
   ],
   "source": [
    "print(verify_sorted(l))"
   ]
  }
 ],
 "metadata": {
  "kernelspec": {
   "display_name": "Python 3 (ipykernel)",
   "language": "python",
   "name": "python3"
  },
  "language_info": {
   "codemirror_mode": {
    "name": "ipython",
    "version": 3
   },
   "file_extension": ".py",
   "mimetype": "text/x-python",
   "name": "python",
   "nbconvert_exporter": "python",
   "pygments_lexer": "ipython3",
   "version": "3.11.7"
  }
 },
 "nbformat": 4,
 "nbformat_minor": 5
}
