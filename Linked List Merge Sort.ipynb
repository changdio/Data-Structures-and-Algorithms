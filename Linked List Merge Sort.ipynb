{
 "cells": [
  {
   "cell_type": "code",
   "execution_count": 1,
   "id": "22ec54d3",
   "metadata": {},
   "outputs": [
    {
     "name": "stdout",
     "output_type": "stream",
     "text": [
      "importing Jupyter notebook from Linked_List.ipynb\n"
     ]
    }
   ],
   "source": [
    "import import_ipynb\n",
    "\n",
    "# Import the notebook\n",
    "from Linked_List import LinkedList"
   ]
  },
  {
   "cell_type": "code",
   "execution_count": 2,
   "id": "03baad15",
   "metadata": {},
   "outputs": [],
   "source": [
    "def merge_sort(linked_list):\n",
    "    \"\"\"\n",
    "    Sorts a linked_list in ascending order\n",
    "    - Recursively divide the linked list into sublists containing a single node\n",
    "    - Repeatedly merge the sublists to produce sorted sublists until one remains\n",
    "    \n",
    "    Returns a sorted linked list\n",
    "    \n",
    "    Runs in O(kn log n)\n",
    "    \"\"\"\n",
    "    \n",
    "    if linked_list.size() == 1:\n",
    "        return linked_list\n",
    "    elif linked_list.head is None:\n",
    "        return linked_list\n",
    "    \n",
    "    left_half, right_half = split(linked_list)\n",
    "    left = merge_sort(left_half)\n",
    "    right = merge_sort(right_half)\n",
    "    \n",
    "    return merge(left, right)\n",
    "\n",
    "def split(linked_list):\n",
    "    \"\"\"\n",
    "    Divide the unsorted list at midpoint into sublists\n",
    "    \n",
    "    Takes O(k log n) time\n",
    "    \"\"\"\n",
    "    \n",
    "    if linked_list == None or linked_list.head == None:\n",
    "        left_half = linked_list\n",
    "        right_half = None\n",
    "        \n",
    "        return left_half, right_half\n",
    "    else:\n",
    "        size = linked_list.size()\n",
    "        mid = size // 2\n",
    "        \n",
    "        mid_node = linked_list.node_at_index(mid-1)\n",
    "        \n",
    "        left_half = linked_list\n",
    "        right_half = LinkedList()\n",
    "        right_half.head = mid_node.next_node\n",
    "        mid_node.next_node = None\n",
    "        \n",
    "        return left_half, right_half\n",
    "    \n",
    "def merge(left, right):\n",
    "    \"\"\"\n",
    "    Merges two linked lists, sorting by data in nodes\n",
    "    Returns a new, merged list\n",
    "    \n",
    "    Runs in O(n) time\n",
    "    \"\"\"\n",
    "    \n",
    "    # Create a new linked list that contains nodes from\n",
    "    # merging left and right\n",
    "    merged = LinkedList()\n",
    "    \n",
    "    # Add a fake head that is discareded later\n",
    "    merged.add(0)\n",
    "    \n",
    "    # Set current to the head of the linked list\n",
    "    current = merged.head\n",
    "    \n",
    "    # Obtain head nodes for left and right linked lists\n",
    "    left_head = left.head\n",
    "    right_head = right.head\n",
    "    \n",
    "    # Iterate over left and right until we reach the tail node\n",
    "    # of either\n",
    "    while left_head or right_head:\n",
    "        # If the head node of left is None, we're past the tail\n",
    "        # Add the node from right to merged linked list\n",
    "        if left_head is None:\n",
    "            current.next_node = right_head\n",
    "            # Call next on right to set loop condition to False\n",
    "            right_head = right_head.next_node\n",
    "        # If the head node of right is None, we're past the tail\n",
    "        # Add the tail node from left to merged linked list\n",
    "        elif right_head is None:\n",
    "            current.next_node = left_head\n",
    "            # Call next on left to set loop condition to False\n",
    "            left_head = left_head.next_node\n",
    "        else:\n",
    "            # Not at either tail node\n",
    "            # Obtain node data to perform comparison operations\n",
    "            left_data = left_head.data\n",
    "            right_data = right_head.data\n",
    "            # If data on left is less than right, set current to left node\n",
    "            if left_data < right_data:\n",
    "                current.next_node = left_head\n",
    "                # Move left head to next node\n",
    "                left_head = left_head.next_node\n",
    "            # If data on left is greater than right, set current to right node\n",
    "            else:\n",
    "                current.next_node = right_head\n",
    "                # Move right head to next node\n",
    "                right_head = right_head.next_node\n",
    "        # Move current to next node\n",
    "        current = current.next_node\n",
    "        \n",
    "    # Disguard fake head and set first merged node as head\n",
    "    head = merged.head.next_node\n",
    "    merged.head = head\n",
    "    \n",
    "    return merged"
   ]
  },
  {
   "cell_type": "code",
   "execution_count": 3,
   "id": "0c7e68df",
   "metadata": {},
   "outputs": [],
   "source": [
    "l = LinkedList()"
   ]
  },
  {
   "cell_type": "code",
   "execution_count": 4,
   "id": "29dc7e49",
   "metadata": {},
   "outputs": [],
   "source": [
    "l.add(10)\n",
    "l.add(2)\n",
    "l.add(44)\n",
    "l.add(15)\n",
    "l.add(200)"
   ]
  },
  {
   "cell_type": "code",
   "execution_count": 5,
   "id": "ae517e92",
   "metadata": {},
   "outputs": [
    {
     "name": "stdout",
     "output_type": "stream",
     "text": [
      "[Head: 200]-> [15]-> [44]-> [2]-> [Tail: 10]\n"
     ]
    }
   ],
   "source": [
    "print(l)"
   ]
  },
  {
   "cell_type": "code",
   "execution_count": 6,
   "id": "b2c67dd0",
   "metadata": {},
   "outputs": [
    {
     "name": "stdout",
     "output_type": "stream",
     "text": [
      "[Head: 2]-> [10]-> [15]-> [44]-> [Tail: 200]\n"
     ]
    }
   ],
   "source": [
    "sorted_linked_list = merge_sort(l)\n",
    "print(sorted_linked_list)"
   ]
  }
 ],
 "metadata": {
  "kernelspec": {
   "display_name": "Python 3 (ipykernel)",
   "language": "python",
   "name": "python3"
  },
  "language_info": {
   "codemirror_mode": {
    "name": "ipython",
    "version": 3
   },
   "file_extension": ".py",
   "mimetype": "text/x-python",
   "name": "python",
   "nbconvert_exporter": "python",
   "pygments_lexer": "ipython3",
   "version": "3.11.7"
  }
 },
 "nbformat": 4,
 "nbformat_minor": 5
}
