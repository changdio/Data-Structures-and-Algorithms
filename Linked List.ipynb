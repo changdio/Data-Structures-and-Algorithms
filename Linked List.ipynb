{
 "cells": [
  {
   "cell_type": "code",
   "execution_count": 1,
   "id": "0714a950",
   "metadata": {},
   "outputs": [],
   "source": [
    "class Node:\n",
    "    \"\"\" \n",
    "    An object for storing a single node of a linked list.\n",
    "    Models two attributes - data and the link to the next node in the list\n",
    "    \"\"\"\n",
    "    \n",
    "    data = None\n",
    "    next_node = None\n",
    "    \n",
    "    def __init__(self, data):\n",
    "        self.data = data\n",
    "        \n",
    "    def __repr__(self):\n",
    "        return \"<Node data: %s>\" % self.data\n",
    "    \n",
    "class LinkedList:\n",
    "    \"\"\"\n",
    "    Singly Linked List\n",
    "    \"\"\"\n",
    "\n",
    "    def __init__(self):\n",
    "        self.head = None\n",
    "        \n",
    "    def is_empty(self):\n",
    "        return self.head == None\n",
    "    \n",
    "    def size(self):\n",
    "        \"\"\"\n",
    "        Returns the number of nodes in the list\n",
    "        Takes O(n) time\n",
    "        \"\"\"\n",
    "        current = self.head\n",
    "        count = 0\n",
    "        \n",
    "        while current: # same as writing out while != None:\n",
    "            count += 1\n",
    "            current = current.next_node\n",
    "            \n",
    "        return count\n",
    "    \n",
    "    def add(self, data):\n",
    "        \"\"\"\n",
    "        Adds new Node containing data at head of the list\n",
    "        Takes O(1) time\n",
    "        \"\"\"\n",
    "        \n",
    "        new_node = Node(data)\n",
    "        new_node.next_node = self.head\n",
    "        self.head = new_node\n",
    "    \n",
    "    def search(self, key):\n",
    "        \"\"\"\n",
    "        Search for the first node containing data that matches the key\n",
    "        Returns the node or 'None' if not found\n",
    "        \n",
    "        Takes O(n) time\n",
    "        \"\"\"\n",
    "        \n",
    "        current = self.head\n",
    "        \n",
    "        while current:\n",
    "            if current.data == key:\n",
    "                return current\n",
    "            else:\n",
    "                current = current.next_node\n",
    "        return None\n",
    "    \n",
    "    def insert(self, data, index):\n",
    "        \"\"\"\n",
    "        Inserts a new node containing data at index position\n",
    "        Insertion takes O(1) time \n",
    "        but finding the node at the insertion point takes O(n) time.\n",
    "        \n",
    "        Takes overall O(n) time\n",
    "        \"\"\"\n",
    "        \n",
    "        if index == 0:\n",
    "            self.add(data)\n",
    "            \n",
    "        if index > 0:\n",
    "            new = Node(data)\n",
    "            \n",
    "            position = index\n",
    "            current = self.head\n",
    "            \n",
    "            while position > 1:\n",
    "                current = current.next_node\n",
    "                position -= 1\n",
    "                \n",
    "            prev_node = current\n",
    "            next_node = current.next_node\n",
    "            \n",
    "            prev_node.next_node = new\n",
    "            new.next_node = next_node\n",
    "    \n",
    "    def remove(self, key):\n",
    "        \"\"\"\n",
    "        Removes node containing data that matches the key\n",
    "        Returns the node or None if the key doesn't exist\n",
    "        Takes O(n) time\n",
    "        \"\"\"\n",
    "        \n",
    "        current = self.head\n",
    "        previous = None\n",
    "        found = False\n",
    "        \n",
    "        while current and not found:\n",
    "            if current.data == key and current is self.head:\n",
    "                found = True\n",
    "                self.head = current.next_node\n",
    "            elif current.data == key:\n",
    "                found = True\n",
    "                previous.next_node = current.next_node\n",
    "            else:\n",
    "                previous = current\n",
    "                current = current.next_node\n",
    "                \n",
    "        return current\n",
    "    \n",
    "    def __repr__(self):\n",
    "        \"\"\"\n",
    "        Return a string represenation of the list\n",
    "        Takes O(n) time\n",
    "        \"\"\"\n",
    "        \n",
    "        nodes = []\n",
    "        current = self.head\n",
    "        \n",
    "        while current:\n",
    "            if current is self.head:\n",
    "                nodes.append(\"[Head: %s]\" % current.data)\n",
    "            elif current.next_node is None:\n",
    "                nodes.append(\"[Tail: %s]\" % current.data)\n",
    "            else:\n",
    "                nodes.append(\"[%s]\" % current.data)\n",
    "                \n",
    "            current = current.next_node\n",
    "        return '-> '.join(nodes)"
   ]
  },
  {
   "cell_type": "code",
   "execution_count": 2,
   "id": "293681b4",
   "metadata": {},
   "outputs": [],
   "source": [
    "l = LinkedList()"
   ]
  },
  {
   "cell_type": "code",
   "execution_count": 3,
   "id": "5d5c472b",
   "metadata": {},
   "outputs": [],
   "source": [
    "l.add(1)"
   ]
  },
  {
   "cell_type": "code",
   "execution_count": 4,
   "id": "67402020",
   "metadata": {},
   "outputs": [],
   "source": [
    "l.add(2)"
   ]
  },
  {
   "cell_type": "code",
   "execution_count": 5,
   "id": "d0222e55",
   "metadata": {},
   "outputs": [],
   "source": [
    "l.add(3)"
   ]
  },
  {
   "cell_type": "code",
   "execution_count": 6,
   "id": "311f0c67",
   "metadata": {},
   "outputs": [
    {
     "data": {
      "text/plain": [
       "3"
      ]
     },
     "execution_count": 6,
     "metadata": {},
     "output_type": "execute_result"
    }
   ],
   "source": [
    "l.size()"
   ]
  },
  {
   "cell_type": "code",
   "execution_count": 7,
   "id": "dac2ef09",
   "metadata": {},
   "outputs": [
    {
     "data": {
      "text/plain": [
       "[Head: 3]-> [2]-> [Tail: 1]"
      ]
     },
     "execution_count": 7,
     "metadata": {},
     "output_type": "execute_result"
    }
   ],
   "source": [
    "l"
   ]
  },
  {
   "cell_type": "code",
   "execution_count": 8,
   "id": "1301de84",
   "metadata": {},
   "outputs": [],
   "source": [
    "l.add(10)\n",
    "l.add(2)\n",
    "l.add(45)\n",
    "l.add(15)"
   ]
  },
  {
   "cell_type": "code",
   "execution_count": 9,
   "id": "1cdef8f3",
   "metadata": {},
   "outputs": [
    {
     "data": {
      "text/plain": [
       "<Node data: 45>"
      ]
     },
     "execution_count": 9,
     "metadata": {},
     "output_type": "execute_result"
    }
   ],
   "source": [
    "l.search(45)"
   ]
  },
  {
   "cell_type": "code",
   "execution_count": 10,
   "id": "5043283b",
   "metadata": {},
   "outputs": [
    {
     "data": {
      "text/plain": [
       "7"
      ]
     },
     "execution_count": 10,
     "metadata": {},
     "output_type": "execute_result"
    }
   ],
   "source": [
    "l.size()"
   ]
  },
  {
   "cell_type": "code",
   "execution_count": 11,
   "id": "f27f1dab",
   "metadata": {},
   "outputs": [],
   "source": [
    "l.insert(68,2)"
   ]
  },
  {
   "cell_type": "code",
   "execution_count": 12,
   "id": "c1ebd858",
   "metadata": {},
   "outputs": [
    {
     "data": {
      "text/plain": [
       "[Head: 15]-> [45]-> [68]-> [2]-> [10]-> [3]-> [2]-> [Tail: 1]"
      ]
     },
     "execution_count": 12,
     "metadata": {},
     "output_type": "execute_result"
    }
   ],
   "source": [
    "l"
   ]
  },
  {
   "cell_type": "code",
   "execution_count": 13,
   "id": "a1f6e171",
   "metadata": {},
   "outputs": [
    {
     "data": {
      "text/plain": [
       "<Node data: 45>"
      ]
     },
     "execution_count": 13,
     "metadata": {},
     "output_type": "execute_result"
    }
   ],
   "source": [
    "l.remove(45)"
   ]
  },
  {
   "cell_type": "code",
   "execution_count": 14,
   "id": "c5d50f3f",
   "metadata": {},
   "outputs": [
    {
     "data": {
      "text/plain": [
       "[Head: 15]-> [68]-> [2]-> [10]-> [3]-> [2]-> [Tail: 1]"
      ]
     },
     "execution_count": 14,
     "metadata": {},
     "output_type": "execute_result"
    }
   ],
   "source": [
    "l"
   ]
  }
 ],
 "metadata": {
  "kernelspec": {
   "display_name": "Python 3 (ipykernel)",
   "language": "python",
   "name": "python3"
  },
  "language_info": {
   "codemirror_mode": {
    "name": "ipython",
    "version": 3
   },
   "file_extension": ".py",
   "mimetype": "text/x-python",
   "name": "python",
   "nbconvert_exporter": "python",
   "pygments_lexer": "ipython3",
   "version": "3.11.7"
  }
 },
 "nbformat": 4,
 "nbformat_minor": 5
}
